{
 "cells": [
  {
   "cell_type": "markdown",
   "metadata": {},
   "source": [
    "## IT309 - Module 5 - Singly Linked List Code\n",
    ">>- uses getter/setter methods in inner Node class\n",
    ">>- provides single underscore protction of attributes"
   ]
  },
  {
   "cell_type": "code",
   "execution_count": null,
   "metadata": {},
   "outputs": [],
   "source": [
    "class SinglyLinkedList:\n",
    "  \"\"\"LIFO Stack implementation using a singly linked list for storage.\"\"\"\n",
    "\n",
    " #-------------------------- nested _Node class --------------------------\n",
    "  class _Node:         # \"inner\" class\n",
    "    \"\"\"Lightweight, nonpublic class for storing a singly linked node.\"\"\"\n",
    "    __slots__ = '_element', '_next'           # streamline memory usage\n",
    "\n",
    "    def __init__(self, element, next):        # initialize node's fields\n",
    "        self._element = element               # reference to user's element\n",
    "        self._next = next                     # reference to next node\n",
    "\n",
    "    def setNext(self, next):\n",
    "        self._next = next\n",
    "    \n",
    "    def getNext(self):\n",
    "        return self._next\n",
    "  \n",
    "    def setElement(self, element):\n",
    "        self.element = _element\n",
    "    \n",
    "    def getElement(self):\n",
    "        return self._element\n",
    "        \n",
    "  #------------------------------- stack methods -------------------------------\n",
    "  def __init__(self, head = None, size = 0):\n",
    "    \"\"\"Create an empty list.\"\"\"\n",
    "    self._head = head                       # reference to the head node\n",
    "    self._size = size                       # number of stack elements\n",
    "\n",
    "  def getSize(self):\n",
    "    \"\"\"Return the number of elements in the list.\"\"\"\n",
    "    return self._size\n",
    "\n",
    "  def isEmpty(self):\n",
    "    \"\"\"Return True if the list is empty.\"\"\"\n",
    "    return self._size == 0\n",
    "\n",
    "  def add (self, element):\n",
    "    \"\"\"Add element element to the end of the list.\"\"\"\n",
    "    node = self._Node(element, None)\n",
    "    if self.isEmpty():                       # special case if list is empty\n",
    "        self._head = node\n",
    "    else:\n",
    "        cursor = self._head                  # list already has elements ...\n",
    "        while cursor.getNext() is not None:  #   ...iterate to the end and add\n",
    "            cursor = cursor.getNext( )\n",
    "        cursor.setNext(node)\n",
    "    print('Adding # ', self._size, ' element: ', node.getElement())\n",
    "    self._size += 1\n",
    "        \n",
    "  def remove(self):\n",
    "    \"\"\"Remove the element at the head of the list. Raise Empty if the list is empty.\"\"\"\n",
    "    if self.isEmpty():\n",
    "      raise Empty('List is empty')\n",
    "    self._size -= 1\n",
    "    out = self._head.getElement()      # save the head element and return it to the caller\n",
    "    self._head = self._head.getNext()  # Reset the head to the second (next) list element\n",
    "    return out\n",
    "\n",
    " # Added by GRS for in-class demo ----------------------------------------------------------------------\n",
    "  def showList(self):\n",
    "    \"\"\"Display the contents of the list, from head to tail. Raise Empty exception if the List is empty. \"\"\"\n",
    "    cursor = self._head\n",
    "    while cursor:\n",
    "        print(cursor.getElement())\n",
    "        cursor = cursor.getNext()\n",
    "    return\n",
    "        \n",
    "  def search(self, key):\n",
    "    \"\"\" Search the list using 'key. \"\"\"        \n",
    "    cursor = self._head\n",
    "    while cursor:\n",
    "        if key == cursor.getElement():\n",
    "            return True\n",
    "        cursor = cursor.getNext()\n",
    "    return False\n",
    "\n",
    "# Added by GRS for in-class demo -------------------------------------------------------------------\n",
    "class Empty(Exception):\n",
    "    \"\"\"Empty exception class provided to flag that condition. \"\"\"\n",
    "    pass"
   ]
  },
  {
   "cell_type": "code",
   "execution_count": 12,
   "metadata": {},
   "outputs": [
    {
     "name": "stdout",
     "output_type": "stream",
     "text": [
      "Adding #  0  element:  Washington\n",
      "Adding #  1  element:  Adams\n",
      "Adding #  2  element:  Jefferson\n",
      "Adding #  3  element:  Madison\n",
      "Adding #  4  element:  Monroe\n",
      "Adding #  5  element:  Quincy Adams\n",
      "Adding #  6  element:  Jackson\n",
      "\n",
      "List size:  7    contents: \n",
      "Washington\n",
      "Adams\n",
      "Jefferson\n",
      "Madison\n",
      "Monroe\n",
      "Quincy Adams\n",
      "Jackson\n",
      "\n",
      "Search for Adams:  True\n",
      "\n",
      "Search for Shuman  False\n",
      "\n",
      "Search for Lincoln  False\n",
      "\n",
      "Search for Quincy  False\n",
      "\n",
      "Search for Jackson  True\n"
     ]
    }
   ],
   "source": [
    "SLL = SinglyLinkedList()\n",
    "SLL.add('Washington')\n",
    "SLL.add('Adams')\n",
    "SLL.add('Jefferson')\n",
    "SLL.add('Madison')\n",
    "SLL.add('Monroe')\n",
    "SLL.add('Quincy Adams')\n",
    "SLL.add('Jackson')\n",
    "print('\\nList size: ', SLL.getSize(), '   contents: ')\n",
    "SLL.showList()\n",
    "print('\\nSearch for Adams: ', SLL.search('Adams'))\n",
    "print('\\nSearch for Shuman ', SLL.search('Shuman'))\n",
    "print('\\nSearch for Lincoln ', SLL.search('Lincoln'))\n",
    "print('\\nSearch for Quincy ', SLL.search('Quincy'))\n",
    "print('\\nSearch for Jackson ', SLL.search('Jackson'))\n"
   ]
  },
  {
   "cell_type": "code",
   "execution_count": 13,
   "metadata": {},
   "outputs": [
    {
     "data": {
      "text/plain": [
       "7"
      ]
     },
     "execution_count": 13,
     "metadata": {},
     "output_type": "execute_result"
    }
   ],
   "source": [
    "SLL.getSize()\n"
   ]
  },
  {
   "cell_type": "code",
   "execution_count": 14,
   "metadata": {},
   "outputs": [
    {
     "name": "stdout",
     "output_type": "stream",
     "text": [
      "Washington \n",
      "\n",
      "Adams\n",
      "Jefferson\n",
      "Madison\n",
      "Monroe\n",
      "Quincy Adams\n",
      "Jackson\n"
     ]
    }
   ],
   "source": [
    "print(SLL.remove(), '\\n')\n",
    "SLL.showList()"
   ]
  },
  {
   "cell_type": "code",
   "execution_count": 15,
   "metadata": {},
   "outputs": [
    {
     "name": "stdout",
     "output_type": "stream",
     "text": [
      "Size of list:  6 \n",
      "\n",
      "Removing:  Adams\n",
      "Removing:  Jefferson\n",
      "Removing:  Madison\n",
      "Removing:  Monroe\n",
      "Removing:  Quincy Adams\n",
      "Removing:  Jackson\n",
      "\n",
      "Size of list:  0\n"
     ]
    }
   ],
   "source": [
    "print('Size of list: ', SLL.getSize(), '\\n')\n",
    "while not SLL.isEmpty():\n",
    "    print('Removing: ', SLL.remove() )\n",
    "print('\\nSize of list: ', SLL.getSize())    "
   ]
  },
  {
   "cell_type": "code",
   "execution_count": 16,
   "metadata": {},
   "outputs": [
    {
     "ename": "Empty",
     "evalue": "List is empty",
     "output_type": "error",
     "traceback": [
      "\u001b[1;31m---------------------------------------------------------------------------\u001b[0m",
      "\u001b[1;31mEmpty\u001b[0m                                     Traceback (most recent call last)",
      "\u001b[1;32m<ipython-input-16-7e81e0ff1458>\u001b[0m in \u001b[0;36m<module>\u001b[1;34m\u001b[0m\n\u001b[0;32m      1\u001b[0m \u001b[1;31m#SLL = SinglyLinkedList()\u001b[0m\u001b[1;33m\u001b[0m\u001b[1;33m\u001b[0m\u001b[1;33m\u001b[0m\u001b[0m\n\u001b[1;32m----> 2\u001b[1;33m \u001b[0mSLL\u001b[0m\u001b[1;33m.\u001b[0m\u001b[0mremove\u001b[0m\u001b[1;33m(\u001b[0m\u001b[1;33m)\u001b[0m\u001b[1;33m\u001b[0m\u001b[1;33m\u001b[0m\u001b[0m\n\u001b[0m",
      "\u001b[1;32m<ipython-input-11-5465dec1648a>\u001b[0m in \u001b[0;36mremove\u001b[1;34m(self)\u001b[0m\n\u001b[0;32m     53\u001b[0m     \u001b[1;34m\"\"\"Remove the element at the head of the list. Raise Empty if the list is empty.\"\"\"\u001b[0m\u001b[1;33m\u001b[0m\u001b[1;33m\u001b[0m\u001b[0m\n\u001b[0;32m     54\u001b[0m     \u001b[1;32mif\u001b[0m \u001b[0mself\u001b[0m\u001b[1;33m.\u001b[0m\u001b[0misEmpty\u001b[0m\u001b[1;33m(\u001b[0m\u001b[1;33m)\u001b[0m\u001b[1;33m:\u001b[0m\u001b[1;33m\u001b[0m\u001b[1;33m\u001b[0m\u001b[0m\n\u001b[1;32m---> 55\u001b[1;33m       \u001b[1;32mraise\u001b[0m \u001b[0mEmpty\u001b[0m\u001b[1;33m(\u001b[0m\u001b[1;34m'List is empty'\u001b[0m\u001b[1;33m)\u001b[0m\u001b[1;33m\u001b[0m\u001b[1;33m\u001b[0m\u001b[0m\n\u001b[0m\u001b[0;32m     56\u001b[0m     \u001b[0mself\u001b[0m\u001b[1;33m.\u001b[0m\u001b[0m_size\u001b[0m \u001b[1;33m-=\u001b[0m \u001b[1;36m1\u001b[0m\u001b[1;33m\u001b[0m\u001b[1;33m\u001b[0m\u001b[0m\n\u001b[0;32m     57\u001b[0m     \u001b[0mout\u001b[0m \u001b[1;33m=\u001b[0m \u001b[0mself\u001b[0m\u001b[1;33m.\u001b[0m\u001b[0m_head\u001b[0m\u001b[1;33m.\u001b[0m\u001b[0mgetElement\u001b[0m\u001b[1;33m(\u001b[0m\u001b[1;33m)\u001b[0m      \u001b[1;31m# save the head element and return it to the caller\u001b[0m\u001b[1;33m\u001b[0m\u001b[1;33m\u001b[0m\u001b[0m\n",
      "\u001b[1;31mEmpty\u001b[0m: List is empty"
     ]
    }
   ],
   "source": [
    "#SLL = SinglyLinkedList()\n",
    "SLL.remove()"
   ]
  },
  {
   "cell_type": "markdown",
   "metadata": {},
   "source": [
    "### Alternate version of SLL that inherits from SinglyLinkedList, but overrides the print statement in\n",
    "### "
   ]
  },
  {
   "cell_type": "code",
   "execution_count": 17,
   "metadata": {},
   "outputs": [],
   "source": [
    "class SinglyLinkedList1(SinglyLinkedList):\n",
    "  \"\"\"Inherits from SinglyLinkedList - overrides showList method to show more detail.\"\"\"\n",
    "  def showList(self):\n",
    "    \"\"\"Display the contents of the list, from head to tail. Raise Empty exception if the List is empty. \"\"\"\n",
    "    cursor = self._head\n",
    "    while cursor:\n",
    "        print('List element: {0:15s}   object id: {1:15d}   next: {2:15d}'. \\\n",
    "              format(cursor.getElement(), id(cursor), id(cursor.getNext())))\n",
    "        cursor = cursor.getNext()\n",
    "    return"
   ]
  },
  {
   "cell_type": "code",
   "execution_count": 18,
   "metadata": {},
   "outputs": [
    {
     "name": "stdout",
     "output_type": "stream",
     "text": [
      "Adding #  0  element:  Washington\n",
      "Adding #  1  element:  Adams\n",
      "Adding #  2  element:  Jefferson\n",
      "Adding #  3  element:  Madison\n",
      "Adding #  4  element:  Monroe\n",
      "Adding #  5  element:  Quincy Adams\n",
      "Adding #  6  element:  Jackson\n",
      "\n",
      "List size:  7    contents: \n",
      "List element: Washington        object id:   2271696243848   next:   2271696243960\n",
      "List element: Adams             object id:   2271696243960   next:   2271696244072\n",
      "List element: Jefferson         object id:   2271696244072   next:   2271696244184\n",
      "List element: Madison           object id:   2271696244184   next:   2271696244296\n",
      "List element: Monroe            object id:   2271696244296   next:   2271696244408\n",
      "List element: Quincy Adams      object id:   2271696244408   next:   2271696244520\n",
      "List element: Jackson           object id:   2271696244520   next: 140732386331872\n",
      "\n",
      "Search for Adams:  True\n",
      "\n",
      "Search for Shuman  False\n",
      "\n",
      "Search for Lincoln  False\n",
      "\n",
      "Search for Quincy  False\n",
      "\n",
      "Search for Jackson  True\n"
     ]
    }
   ],
   "source": [
    "SLL = SinglyLinkedList1()\n",
    "SLL.add('Washington')\n",
    "SLL.add('Adams')\n",
    "SLL.add('Jefferson')\n",
    "SLL.add('Madison')\n",
    "SLL.add('Monroe')\n",
    "SLL.add('Quincy Adams')\n",
    "SLL.add('Jackson')\n",
    "print('\\nList size: ', SLL.getSize(), '   contents: ')\n",
    "SLL.showList()\n",
    "print('\\nSearch for Adams: ', SLL.search('Adams'))\n",
    "print('\\nSearch for Shuman ', SLL.search('Shuman'))\n",
    "print('\\nSearch for Lincoln ', SLL.search('Lincoln'))\n",
    "print('\\nSearch for Quincy ', SLL.search('Quincy'))\n",
    "print('\\nSearch for Jackson ', SLL.search('Jackson'))\n"
   ]
  },
  {
   "cell_type": "code",
   "execution_count": 19,
   "metadata": {},
   "outputs": [
    {
     "data": {
      "text/plain": [
       "140732386331872"
      ]
     },
     "execution_count": 19,
     "metadata": {},
     "output_type": "execute_result"
    }
   ],
   "source": [
    "id(None)\n"
   ]
  },
  {
   "cell_type": "code",
   "execution_count": null,
   "metadata": {},
   "outputs": [],
   "source": []
  }
 ],
 "metadata": {
  "kernelspec": {
   "display_name": "Python 3",
   "language": "python",
   "name": "python3"
  },
  "language_info": {
   "codemirror_mode": {
    "name": "ipython",
    "version": 3
   },
   "file_extension": ".py",
   "mimetype": "text/x-python",
   "name": "python",
   "nbconvert_exporter": "python",
   "pygments_lexer": "ipython3",
   "version": "3.7.3"
  }
 },
 "nbformat": 4,
 "nbformat_minor": 2
}
