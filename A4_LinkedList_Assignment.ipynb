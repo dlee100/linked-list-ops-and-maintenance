{
 "cells": [
  {
   "cell_type": "markdown",
   "metadata": {},
   "source": [
    "## Code for SinglyLinkedList class for use in IT309 Assignment #4 (A4)\n",
    "### A4 requires that the methods insertAfter and insertElt be completed \n",
    "### A4 also requires a list be built and maintained using a set of provided list opertional transactions"
   ]
  },
  {
   "cell_type": "code",
   "execution_count": 79,
   "metadata": {},
   "outputs": [],
   "source": [
    "class SinglyLinkedList:\n",
    "    \"\"\"LIFO Stack implementation using a singly linked list for storage.\"\"\"\n",
    "\n",
    " #-------------------------- nested _Node class --------------------------\n",
    "    class _Node:         # \"inner\" class\n",
    "        \"\"\"Lightweight, nonpublic class for storing a singly linked node.\"\"\"\n",
    "        __slots__ = '_element', '_next'           # streamline memory usage\n",
    "\n",
    "        def __init__(self, element, next):        # initialize node's fields\n",
    "            self._element = element               # reference to user's element\n",
    "            self._next = next                     # reference to next node\n",
    "\n",
    "        def setNext(self, next):\n",
    "            self._next = next\n",
    "    \n",
    "        def getNext(self):\n",
    "            return self._next\n",
    "  \n",
    "        def setElement(self, element):\n",
    "            self.element = _element\n",
    "    \n",
    "        def getElement(self):\n",
    "            return self._element\n",
    "        \n",
    "  #------------------------------- stack methods -------------------------------\n",
    "    def __init__(self, head = None, size = 0):\n",
    "        \"\"\"Create an empty list.\"\"\"\n",
    "        self._head = head                       # reference to the head node\n",
    "        self._size = size                       # number of stack elements\n",
    "\n",
    "    def getSize(self):\n",
    "        \"\"\"Return the number of elements in the list.\"\"\"\n",
    "        return self._size\n",
    "\n",
    "    def isEmpty(self):\n",
    "        \"\"\"Return True if the list is empty.\"\"\"\n",
    "        return self._size == 0\n",
    "\n",
    "    def add (self, element):\n",
    "        \"\"\"Add element element to the end of the list.\"\"\"\n",
    "        node = self._Node(element, None)\n",
    "        if self.isEmpty():\n",
    "            self._head = node\n",
    "        else:\n",
    "            cursor = self._head\n",
    "            while cursor.getNext() is not None:\n",
    "                cursor = cursor.getNext()\n",
    "            cursor.setNext(node)\n",
    "        print('Adding # ', self._size, ' element: ', node.getElement())\n",
    "        self._size += 1\n",
    "        \n",
    "    def remove(self):\n",
    "        \"\"\"Remove the element at the head of the list. Raise Empty if the list is empty.\"\"\"\n",
    "        if self.isEmpty():\n",
    "            raise Empty('List is empty')\n",
    "        self._size -= 1\n",
    "        out = self._head.getElement()      # save the head element and return to the caller\n",
    "        self._head = self._head.getNext()  # Reset the head to the second (next) list element\n",
    "        return out\n",
    "\n",
    "    def showList(self):\n",
    "        \"\"\"Display the contents of the list, from head to tail. Raise Empty exception if the List is empty. \"\"\"\n",
    "        if not self.isEmpty():\n",
    "            cursor = self._head\n",
    "            while True:\n",
    "                print(cursor.getElement(), ' reference: ', id(cursor), id(cursor.getNext()))\n",
    "                if cursor.getNext() == None: break\n",
    "                cursor = cursor.getNext()\n",
    "        return\n",
    "        \n",
    "    def search(self, key):\n",
    "        \"\"\" Search the list using 'key. \"\"\"        \n",
    "        cursor = self._head #'cursor' is the node pointer, starting at the list head.\n",
    "        while cursor: #loop until cursor is 'None', the list tail was reached.\n",
    "            if key == cursor.getElement(): #is the node element equal to the 'key' search target?\n",
    "                return True\n",
    "            cursor = cursor.getNext() #point to the next node by setting cursor to next.\n",
    "        return False\n",
    "\n",
    "#\"\"\"The above searches the SLL one node at a time, starting with the head, until it finds a node whose element (data or key) equals the parameter 'key' value or it reaches the node after the tail, which is 'None'.  Lines 3, 4, and 7 are the way you loop through the list.  I've added some comments to help you understand what's going on, but the code itself was provided with the assignment as a Jupyter notebook file.  Copy it in and start from there if you haven't already done it.   \"\"\"\n",
    "#\"\"\"Remember that a pointer ('cursor' in the above code) is the object reference - the long number representing the place in storage where the object's data is kept.  Each node is located at a difference place and is usually not in consecutive locations.  How to follow and manipulate these pointers is the thing I'm trying to get across here. \"\"\"\n",
    "#\"\"\"For 'insertAfter' you have to keep a counter variable to count how many nodes you've passed before inserting after the ith one.  For 'insertElt' you have to save the previous and next node pointers as you loop through the list so you can place your new node after the previous or before the next one.  \"\"\"\n",
    "\n",
    "#---------------------------------------------------------------------------------\n",
    "# IT-309 A4 requires you to complete the code for the two methods that follow\n",
    "#---------------------------------------------------------------------------------\n",
    "\n",
    "# ^^^^^ SHOULD ONLY BE AROUND 30 LINES OF CODE FOR THESE TWO METHODS COMBINED\n",
    "# ^^^^^ Review how LINKED STRUCTURES work and OBJECT ID's for pointing elements\n",
    "# ^^^^^ Textbook pages 255-265 (chapter 7)\n",
    "# <!!!>\n",
    "\n",
    "    # You have to keep a counter variable to count how many nodes you've passed before inserting after the ith one.\n",
    "    def insertAfter (self, i, element):\n",
    "        node = self._Node(element, None)\n",
    "        #i = int\n",
    "        if self.isEmpty():\n",
    "            self._head = node\n",
    "        else:\n",
    "            cursor = self._head #'cursor' is the node pointer, starting at the list head.\n",
    "            count = 0\n",
    "            # if the specified index is greater than the size of the list, add the node to the end of the list.\n",
    "            if int(i) >= self._size: # same function as add()\n",
    "                while cursor.getNext() is not None:\n",
    "                    if count == i:\n",
    "                        previousNode.next = element\n",
    "                        element.next = cursor\n",
    "                        break\n",
    "                    previousNode = cursor\n",
    "                    cursor = cursor.getNext()\n",
    "                    count+=1\n",
    "                cursor.setNext(node)\n",
    "                print('Adding # ', self._size, ' element: ', node.getElement())\n",
    "                self._size += 1\n",
    "            elif int(i) < self._size:\n",
    "                while int(i) != count:\n",
    "                    #count+=1\n",
    "                    #cursor = cursor.getNext() #goes to the next node\n",
    "                    if count == i:\n",
    "                        previousNode.next = element\n",
    "                        element.next = cursor\n",
    "                        break\n",
    "                    previousNode = cursor\n",
    "                    cursor = cursor.getNext()\n",
    "                    count+=1\n",
    "                cursor.setNext(node)\n",
    "                #print('Adding # ', self._size, ' element: ', node.getElement())\n",
    "                self._size += 1\n",
    "            #count+=1\n",
    "        print('Inserted ', node.getElement(), 'after index position #', count)\n",
    "    \n",
    "    # You have to save the previous and next node pointers as you loop through the list so you can place your new node after the previous or before the next one.\n",
    "    def insertElt (self, insrtThis, where, insrtHere):\n",
    "        \"\"\"Insert element 'insrtThis' before/after node with element =='insrtHere'.\n",
    "           Parameter 'where' = \"B\" (before) or \"A' (After) 'insrtHere'.        \"\"\"\n",
    "        node = self._Node(insrtThis, None)\n",
    "        # insert method body below\n",
    "        # Hint: search for the list node element == 'insrtHere', then insert accordingly...'  \n",
    "        \n",
    "        if self.isEmpty():\n",
    "            self._head = node\n",
    "        else:\n",
    "            #insrtHere = cursor.getElement()\n",
    "            if where == 'A':\n",
    "                cursor = self._head\n",
    "                # add insrtThis AFTER insrtHere\n",
    "                while cursor.getNext() is not None:\n",
    "                    if insrtHere == cursor.getElement():\n",
    "                        insrtHere = cursor.getElement()\n",
    "                        pass\n",
    "                    cursor = cursor.getNext()\n",
    "                    \n",
    "                cursor.setNext(node)\n",
    "                self._size += 1\n",
    "                print('Inserted ', node.getElement(), 'after ', insrtHere)\n",
    "            elif where == 'B':\n",
    "                # add insrtThis BEFORE insrtHere\n",
    "                current_node = self._head\n",
    "                current_pos = 0\n",
    "                while current_node.getNext() is not None:\n",
    "                    if insrtHere == current_node.getElement():\n",
    "                        insrtHere = current_node.getElement()\n",
    "                        break\n",
    "                    #cursor = cursor.getNext()\n",
    "                    previous_node = current_node\n",
    "                    current_node = current_node.getNext()\n",
    "                    current_pos+=1\n",
    "                previous_node.setNext(node)\n",
    "                self._size += 1\n",
    "                print('Inserted ', node.getElement(), 'before ', insrtHere)\n",
    "            \n",
    "        \n",
    "    \n",
    "    \n",
    "    \n",
    "    \n",
    "    \n",
    "        \n",
    "# </!!!>\n",
    "class Empty(Exception):\n",
    "    \"\"\"Empty exception class provided to flag that condition. \"\"\"\n",
    "    pass"
   ]
  },
  {
   "cell_type": "code",
   "execution_count": 80,
   "metadata": {},
   "outputs": [
    {
     "name": "stdout",
     "output_type": "stream",
     "text": [
      "['A', 'Washington']\n",
      "['A', 'Adams']\n",
      "['A', 'Jefferson']\n",
      "['A', 'Madison']\n",
      "['A', 'Monroe']\n",
      "['A', 'Quincy Adams']\n",
      "['A', 'Jackson']\n",
      "['A', 'Van Buren']\n",
      "['A', 'Harrison']\n",
      "['A', 'Tyler']\n",
      "['A', 'Polk']\n",
      "['A', 'Taylor']\n",
      "['A', 'Fillmore']\n",
      "['A', 'Pierce']\n",
      "['A', 'Buchanan']\n",
      "['A', 'Lincoln']\n",
      "['A', 'AJohnson']\n",
      "['A', 'Grant']\n",
      "['A', 'Hayes']\n",
      "['A', 'Garfield']\n",
      "['A', 'Arthur']\n",
      "['A', 'Cleveland']\n",
      "['A', 'Harrison']\n",
      "['A', 'Cleveland']\n",
      "['A', 'McKinley']\n",
      "['A', 'TRoosevelt']\n",
      "['IE', 'Wilson', 'A', 'TRoosevelt']\n",
      "['IE', 'Taft', 'B', 'Pierce']\n"
     ]
    }
   ],
   "source": [
    "# inserts like 'A,Washington' (add) are inserted after the most tail element\n",
    "# inserts like 'IE,Wilson,A,TRoosevelt' (insertElt) are inserted after or before the second element parameter. In this case, Wilson will be inserted after the TRoosevelt node.\n",
    "# inserts like 'IA,40,Kennedy' (insertAfter) are inserted in the index specified. if the index value is greater than the number of items on the SLL, the new node will be inserted after the last item and become the new rear/tail.\n",
    "# insert 'R' (remove) will simply remove the beginning/head node.  \n",
    "\n",
    "A3trans = ('A,Washington',\n",
    "           'A,Adams',\n",
    "           'A,Jefferson',\n",
    "           'A,Madison',\n",
    "           'A,Monroe',\n",
    "           'A,Quincy Adams',\n",
    "           'A,Jackson',\n",
    "           'A,Van Buren',\n",
    "           'A,Harrison',\n",
    "           'A,Tyler',\n",
    "           'A,Polk',\n",
    "           'A,Taylor',\n",
    "           'A,Fillmore',\n",
    "           'A,Pierce',\n",
    "           'A,Buchanan',\n",
    "           'A,Lincoln',\n",
    "           'A,AJohnson',\n",
    "           'A,Grant',\n",
    "           'A,Hayes',\n",
    "           'A,Garfield',\n",
    "           'A,Arthur',\n",
    "           'A,Cleveland',\n",
    "           'A,Harrison',\n",
    "           'A,Cleveland',\n",
    "           'A,McKinley',\n",
    "           'A,TRoosevelt',\n",
    "           'IE,Wilson,A,TRoosevelt',\n",
    "           'IE,Taft,B,Pierce')\n",
    "\n",
    "for n in A3trans:\n",
    "    print(n.split(','))\n",
    "#for n in A3trans:\n",
    "#    print(n.split(',')[0])\n",
    "#for n in A3trans:\n",
    "#    print(n.split(',')[1])"
   ]
  },
  {
   "cell_type": "code",
   "execution_count": 81,
   "metadata": {},
   "outputs": [
    {
     "name": "stdout",
     "output_type": "stream",
     "text": [
      "Adding #  0  element:  Washington\n",
      "Adding #  1  element:  Adams\n",
      "Adding #  2  element:  Jefferson\n",
      "Adding #  3  element:  Madison\n",
      "Adding #  4  element:  Monroe\n",
      "Adding #  5  element:  Quincy Adams\n",
      "Adding #  6  element:  Jackson\n",
      "Adding #  7  element:  Van Buren\n",
      "Adding #  8  element:  Harrison\n",
      "Adding #  9  element:  Tyler\n",
      "Adding #  10  element:  Polk\n",
      "Adding #  11  element:  Taylor\n",
      "Adding #  12  element:  Fillmore\n",
      "Adding #  13  element:  Pierce\n",
      "Adding #  14  element:  Buchanan\n",
      "Adding #  15  element:  Lincoln\n",
      "Adding #  16  element:  AJohnson\n",
      "Adding #  17  element:  Grant\n",
      "Adding #  18  element:  Hayes\n",
      "Adding #  19  element:  Garfield\n",
      "Adding #  20  element:  Arthur\n",
      "Adding #  21  element:  Cleveland\n",
      "Adding #  22  element:  Harrison\n",
      "Adding #  23  element:  Cleveland\n",
      "Adding #  24  element:  McKinley\n",
      "Adding #  25  element:  TRoosevelt\n",
      "Inserted  Wilson after  TRoosevelt\n",
      "Inserted  Taft before  Pierce\n",
      "28\n"
     ]
    }
   ],
   "source": [
    "# SLL1 object created\n",
    "SLL1 = SinglyLinkedList()\n",
    "for n in A3trans:\n",
    "    n = n.split(',')\n",
    "    if n[0] == 'A':\n",
    "        # adds node to the end of the list\n",
    "        SLL1.add(n[1])\n",
    "    elif n[0] == 'IE':\n",
    "        # inserts n[1] node to before/after (n[2]) the n[3] node\n",
    "        SLL1.insertElt(n[1],n[2],n[3])\n",
    "    elif n[0] == 'IA':\n",
    "        # inserts n[2] node after the node indexed (n[1])  \n",
    "        SLL1.insertAfter(n[1],n[2])\n",
    "    elif n[0] == 'R':\n",
    "        # removes the head node\n",
    "        SLL1.remove()\n",
    "    else:\n",
    "        pass\n",
    "print(SLL1._size)"
   ]
  },
  {
   "cell_type": "code",
   "execution_count": 82,
   "metadata": {},
   "outputs": [
    {
     "name": "stdout",
     "output_type": "stream",
     "text": [
      "Washington  reference:  4387274512 4387439760\n",
      "Adams  reference:  4387439760 4396501888\n",
      "Jefferson  reference:  4396501888 4396501744\n",
      "Madison  reference:  4396501744 4386173856\n",
      "Monroe  reference:  4386173856 4386176112\n",
      "Quincy Adams  reference:  4386176112 4386176976\n",
      "Jackson  reference:  4386176976 4387434208\n",
      "Van Buren  reference:  4387434208 4386173280\n",
      "Harrison  reference:  4386173280 4386173664\n",
      "Tyler  reference:  4386173664 4386175392\n",
      "Polk  reference:  4386175392 4396502032\n",
      "Taylor  reference:  4396502032 4396501552\n",
      "Fillmore  reference:  4396501552 4395007232\n",
      "Taft  reference:  4395007232 4326210736\n"
     ]
    }
   ],
   "source": [
    "SLL1.showList()"
   ]
  },
  {
   "cell_type": "code",
   "execution_count": 83,
   "metadata": {},
   "outputs": [
    {
     "name": "stdout",
     "output_type": "stream",
     "text": [
      "4326210736\n"
     ]
    }
   ],
   "source": [
    "print(id(None))"
   ]
  },
  {
   "cell_type": "code",
   "execution_count": 84,
   "metadata": {},
   "outputs": [
    {
     "name": "stdout",
     "output_type": "stream",
     "text": [
      "2777396960784\n"
     ]
    }
   ],
   "source": [
    "print(int('286A9C25E10', 16))"
   ]
  },
  {
   "cell_type": "code",
   "execution_count": 85,
   "metadata": {},
   "outputs": [
    {
     "data": {
      "text/plain": [
       "28"
      ]
     },
     "execution_count": 85,
     "metadata": {},
     "output_type": "execute_result"
    }
   ],
   "source": [
    "SLL1.getSize()"
   ]
  },
  {
   "cell_type": "code",
   "execution_count": 86,
   "metadata": {},
   "outputs": [
    {
     "data": {
      "text/plain": [
       "'Washington'"
      ]
     },
     "execution_count": 86,
     "metadata": {},
     "output_type": "execute_result"
    }
   ],
   "source": [
    "SLL1.remove()"
   ]
  },
  {
   "cell_type": "code",
   "execution_count": 87,
   "metadata": {},
   "outputs": [
    {
     "name": "stdout",
     "output_type": "stream",
     "text": [
      "Adams  reference:  4387439760 4396501888\n",
      "Jefferson  reference:  4396501888 4396501744\n",
      "Madison  reference:  4396501744 4386173856\n",
      "Monroe  reference:  4386173856 4386176112\n",
      "Quincy Adams  reference:  4386176112 4386176976\n",
      "Jackson  reference:  4386176976 4387434208\n",
      "Van Buren  reference:  4387434208 4386173280\n",
      "Harrison  reference:  4386173280 4386173664\n",
      "Tyler  reference:  4386173664 4386175392\n",
      "Polk  reference:  4386175392 4396502032\n",
      "Taylor  reference:  4396502032 4396501552\n",
      "Fillmore  reference:  4396501552 4395007232\n",
      "Taft  reference:  4395007232 4326210736\n"
     ]
    }
   ],
   "source": [
    "SLL1.showList()"
   ]
  },
  {
   "cell_type": "code",
   "execution_count": 88,
   "metadata": {},
   "outputs": [
    {
     "data": {
      "text/plain": [
       "27"
      ]
     },
     "execution_count": 88,
     "metadata": {},
     "output_type": "execute_result"
    }
   ],
   "source": [
    "SLL1.getSize()"
   ]
  },
  {
   "cell_type": "code",
   "execution_count": null,
   "metadata": {},
   "outputs": [],
   "source": []
  }
 ],
 "metadata": {
  "kernelspec": {
   "display_name": "Python 3",
   "language": "python",
   "name": "python3"
  },
  "language_info": {
   "codemirror_mode": {
    "name": "ipython",
    "version": 3
   },
   "file_extension": ".py",
   "mimetype": "text/x-python",
   "name": "python",
   "nbconvert_exporter": "python",
   "pygments_lexer": "ipython3",
   "version": "3.8.5"
  }
 },
 "nbformat": 4,
 "nbformat_minor": 4
}
