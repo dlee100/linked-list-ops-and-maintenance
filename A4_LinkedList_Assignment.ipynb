{
 "cells": [
  {
   "cell_type": "markdown",
   "metadata": {},
   "source": [
    "## Code for SinglyLinkedList class for use in IT309 Assignment #4 (A4)\n",
    "### A4 requires that the methods insertAfter and insertElt be completed \n",
    "### A4 also requires a list be built and maintained using a set of provided list opertional transactions"
   ]
  },
  {
   "cell_type": "code",
   "execution_count": null,
   "metadata": {},
   "outputs": [],
   "source": [
    "class SinglyLinkedList:\n",
    "  \"\"\"LIFO Stack implementation using a singly linked list for storage.\"\"\"\n",
    "\n",
    " #-------------------------- nested _Node class --------------------------\n",
    "  class _Node:         # \"inner\" class\n",
    "    \"\"\"Lightweight, nonpublic class for storing a singly linked node.\"\"\"\n",
    "    __slots__ = '_element', '_next'           # streamline memory usage\n",
    "\n",
    "    def __init__(self, element, next):        # initialize node's fields\n",
    "        self._element = element               # reference to user's element\n",
    "        self._next = next                     # reference to next node\n",
    "\n",
    "    def setNext(self, next):\n",
    "        self._next = next\n",
    "    \n",
    "    def getNext(self):\n",
    "        return self._next\n",
    "  \n",
    "    def setElement(self, element):\n",
    "        self.element = _element\n",
    "    \n",
    "    def getElement(self):\n",
    "        return self._element\n",
    "        \n",
    "  #------------------------------- stack methods -------------------------------\n",
    "  def __init__(self, head = None, size = 0):\n",
    "    \"\"\"Create an empty list.\"\"\"\n",
    "    self._head = head                       # reference to the head node\n",
    "    self._size = size                       # number of stack elements\n",
    "\n",
    "  def getSize(self):\n",
    "    \"\"\"Return the number of elements in the list.\"\"\"\n",
    "    return self._size\n",
    "\n",
    "  def isEmpty(self):\n",
    "    \"\"\"Return True if the list is empty.\"\"\"\n",
    "    return self._size == 0\n",
    "\n",
    "  def add (self, element):\n",
    "    \"\"\"Add element element to the end of the list.\"\"\"\n",
    "    node = self._Node(element, None)\n",
    "    lf self.isEmpty():\n",
    "        self._head = node\n",
    "    else:\n",
    "        cursor = self._head\n",
    "        while cursor.getNext() is not None:\n",
    "            cursor = cursor.getNext( )\n",
    "        cursor.setNext(node)\n",
    "    print('Adding # ', self._size, ' element: ', node.getElement())\n",
    "    self._size += 1\n",
    "        \n",
    "  def remove(self):\n",
    "    \"\"\"Remove the element at the head of the list. Raise Empty if the list is empty.\"\"\"\n",
    "    if self.isEmpty():\n",
    "      raise Empty('List is empty')\n",
    "    self._size -= 1\n",
    "    out = self._head.getElement()      # save the head element and return to the caller\n",
    "    self._head = self._head.getNext()  # Reset the head to the second (next) list element\n",
    "    return out\n",
    "\n",
    "  def showList(self):\n",
    "    \"\"\"Display the contents of the list, from head to tail. Raise Empty exception if the List is empty. \"\"\"\n",
    "    if not self.isEmpty():\n",
    "        cursor = self._head\n",
    "        while True:\n",
    "            print(cursor.getElement(), ' reference: ', id(cursor), id(cursor.getNext()))\n",
    "            if cursor.getNext() == None: break\n",
    "            cursor = cursor.getNext()\n",
    "    return\n",
    "        \n",
    "  def search(self, key):\n",
    "    \"\"\" Search the list using 'key. \"\"\"        \n",
    "    cursor = self._head\n",
    "    while cursor:\n",
    "        if key == cursor.getElement():\n",
    "            return True\n",
    "        cursor = cursor.getNext()\n",
    "    return False\n",
    "\n",
    "#---------------------------------------------------------------------------------\n",
    "# IT-309 A4 requires you to complete the code for the two methods that follow\n",
    "#---------------------------------------------------------------------------------\n",
    "\n",
    "# ^^^^^ SHOULD ONLY BE AROUND 30 LINES OF CODE FOR THESE TWO METHODS COMBINED\n",
    "# ^^^^^ Review how LINKED STRUCTURES work and OBJECT ID's for pointing elements\n",
    "# ^^^^^ Textbook pages 255-265 (chapter 7)\n",
    "  def insertAfter (self, i, element): # 'i' is the 'ith' element, 'element' is the element itself\n",
    "    \"\"\"Insert an element after the ith element of the list.\"\"\"\n",
    "    node = self._Node(element, None)\n",
    "  # insert method body below\n",
    "  # Cases: (1) insert into empty list, (2) insert before the head, (3) insert in the interior\n",
    "\n",
    "  def insertElt (self, insrtThis, where, insrtHere):\n",
    "    \"\"\"Insert element 'insrtThis' before/after node with element =='insrtHere'.\n",
    "       Parameter 'where' = \"B\" (before) or \"A' (After) 'insrtHere'.        \"\"\"\n",
    "    node = self._Node(insrtThis, None)\n",
    "    # insert method body below\n",
    "    # Hint: search for the list node element == 'insrtHere', then insert accordingly...'  \n",
    "\n",
    "class Empty(Exception):\n",
    "    \"\"\"Empty exception class provided to flag that condition. \"\"\"\n",
    "    pass"
   ]
  },
  {
   "cell_type": "code",
   "execution_count": null,
   "metadata": {},
   "outputs": [],
   "source": [
    "SLL = SinglyLinkedList()\n",
    "SLL.add('Washington')\n",
    "SLL.add('Adams')\n",
    "SLL.add('Jefferson')"
   ]
  },
  {
   "cell_type": "code",
   "execution_count": null,
   "metadata": {},
   "outputs": [],
   "source": [
    "SLL.showList()"
   ]
  },
  {
   "cell_type": "code",
   "execution_count": null,
   "metadata": {},
   "outputs": [],
   "source": [
    "print(id(None))"
   ]
  },
  {
   "cell_type": "code",
   "execution_count": null,
   "metadata": {},
   "outputs": [],
   "source": [
    "print(int('286A9C25E10', 16))"
   ]
  },
  {
   "cell_type": "code",
   "execution_count": null,
   "metadata": {},
   "outputs": [],
   "source": [
    "SLL.getSize()"
   ]
  },
  {
   "cell_type": "code",
   "execution_count": null,
   "metadata": {},
   "outputs": [],
   "source": [
    "SLL.remove()"
   ]
  },
  {
   "cell_type": "code",
   "execution_count": null,
   "metadata": {},
   "outputs": [],
   "source": [
    "SLL.showList()"
   ]
  },
  {
   "cell_type": "code",
   "execution_count": null,
   "metadata": {},
   "outputs": [],
   "source": []
  }
 ],
 "metadata": {
  "kernelspec": {
   "display_name": "Python 3",
   "language": "python",
   "name": "python3"
  },
  "language_info": {
   "codemirror_mode": {
    "name": "ipython",
    "version": 3
   },
   "file_extension": ".py",
   "mimetype": "text/x-python",
   "name": "python",
   "nbconvert_exporter": "python",
   "pygments_lexer": "ipython3",
   "version": "3.8.5"
  }
 },
 "nbformat": 4,
 "nbformat_minor": 4
}
