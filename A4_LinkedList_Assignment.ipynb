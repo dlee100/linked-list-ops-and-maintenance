{
 "cells": [
  {
   "cell_type": "markdown",
   "metadata": {},
   "source": [
    "## Code for SinglyLinkedList class for use in IT309 Assignment #4 (A4)\n",
    "### A4 requires that the methods insertAfter and insertElt be completed \n",
    "### A4 also requires a list be built and maintained using a set of provided list opertional transactions"
   ]
  },
  {
   "cell_type": "code",
   "execution_count": 13,
   "metadata": {},
   "outputs": [
    {
     "ename": "IndentationError",
     "evalue": "expected an indented block (<ipython-input-13-c72988f6e1df>, line 6)",
     "output_type": "error",
     "traceback": [
      "\u001b[0;36m  File \u001b[0;32m\"<ipython-input-13-c72988f6e1df>\"\u001b[0;36m, line \u001b[0;32m6\u001b[0m\n\u001b[0;31m    \"\"\"Lightweight, nonpublic class for storing a singly linked node.\"\"\"\u001b[0m\n\u001b[0m    ^\u001b[0m\n\u001b[0;31mIndentationError\u001b[0m\u001b[0;31m:\u001b[0m expected an indented block\n"
     ]
    }
   ],
   "source": [
    "class SinglyLinkedList:\n",
    "    \"\"\"LIFO Stack implementation using a singly linked list for storage.\"\"\"\n",
    "\n",
    " #-------------------------- nested _Node class --------------------------\n",
    "    class _Node:         # \"inner\" class\n",
    "    \"\"\"Lightweight, nonpublic class for storing a singly linked node.\"\"\"\n",
    "        __slots__ = '_element', '_next'           # streamline memory usage\n",
    "\n",
    "        def __init__(self, element, next):        # initialize node's fields\n",
    "            self._element = element               # reference to user's element\n",
    "            self._next = next                     # reference to next node\n",
    "\n",
    "        def setNext(self, next):\n",
    "            self._next = next\n",
    "    \n",
    "        def getNext(self):\n",
    "            return self._next\n",
    "  \n",
    "        def setElement(self, element):\n",
    "            self.element = _element\n",
    "    \n",
    "        def getElement(self):\n",
    "            return self._element\n",
    "        \n",
    "  #------------------------------- stack methods -------------------------------\n",
    "    def __init__(self, head = None, size = 0):\n",
    "        \"\"\"Create an empty list.\"\"\"\n",
    "        self._head = head                       # reference to the head node\n",
    "        self._size = size                       # number of stack elements\n",
    "\n",
    "    def getSize(self):\n",
    "        \"\"\"Return the number of elements in the list.\"\"\"\n",
    "        return self._size\n",
    "\n",
    "    def isEmpty(self):\n",
    "        \"\"\"Return True if the list is empty.\"\"\"\n",
    "        return self._size == 0\n",
    "\n",
    "    def add (self, element):\n",
    "        \"\"\"Add element element to the end of the list.\"\"\"\n",
    "        node = self._Node(element, None)\n",
    "        if self.isEmpty():\n",
    "            self._head = node\n",
    "        else:\n",
    "            cursor = self._head\n",
    "            while cursor.getNext() is not None:\n",
    "                cursor = cursor.getNext( )\n",
    "            cursor.setNext(node)\n",
    "        print('Adding # ', self._size, ' element: ', node.getElement())\n",
    "        self._size += 1\n",
    "        \n",
    "    def remove(self):\n",
    "        \"\"\"Remove the element at the head of the list. Raise Empty if the list is empty.\"\"\"\n",
    "        if self.isEmpty():\n",
    "            raise Empty('List is empty')\n",
    "        self._size -= 1\n",
    "        out = self._head.getElement()      # save the head element and return to the caller\n",
    "        self._head = self._head.getNext()  # Reset the head to the second (next) list element\n",
    "        return out\n",
    "\n",
    "    def showList(self):\n",
    "        \"\"\"Display the contents of the list, from head to tail. Raise Empty exception if the List is empty. \"\"\"\n",
    "        if not self.isEmpty():\n",
    "            cursor = self._head\n",
    "            while True:\n",
    "                print(cursor.getElement(), ' reference: ', id(cursor), id(cursor.getNext()))\n",
    "                if cursor.getNext() == None: break\n",
    "                cursor = cursor.getNext()\n",
    "        return\n",
    "        \n",
    "    def search(self, key):\n",
    "        \"\"\" Search the list using 'key. \"\"\"        \n",
    "        cursor = self._head #'cursor' is the node pointer, starting at the list head.\n",
    "        while cursor: #loop until cursor is 'None', the list tail was reached.\n",
    "            if key == cursor.getElement(): #is the node element equal to the 'key' search target?\n",
    "                return True\n",
    "            cursor = cursor.getNext() #point to the next node by setting cursor to next.\n",
    "        return False\n",
    "\n",
    "\"\"\"The above searches the SLL one node at a time, starting with the head, until it finds a node whose element (data or key) equals the parameter 'key' value or it reaches the node after the tail, which is 'None'.  Lines 3, 4, and 7 are the way you loop through the list.  I've added some comments to help you understand what's going on, but the code itself was provided with the assignment as a Jupyter notebook file.  Copy it in and start from there if you haven't already done it.   \"\"\"\n",
    "\"\"\"Remember that a pointer ('cursor' in the above code) is the object reference - the long number representing the place in storage where the object's data is kept.  Each node is located at a difference place and is usually not in consecutive locations.  How to follow and manipulate these pointers is the thing I'm trying to get across here. \"\"\"\n",
    "\"\"\"For 'insertAfter' you have to keep a counter variable to count how many nodes you've passed before inserting after the ith one.  For 'insertElt' you have to save the previous and next node pointers as you loop through the list so you can place your new node after the previous or before the next one.  \"\"\"\n",
    "#---------------------------------------------------------------------------------\n",
    "# IT-309 A4 requires you to complete the code for the two methods that follow\n",
    "#---------------------------------------------------------------------------------\n",
    "\n",
    "# ^^^^^ SHOULD ONLY BE AROUND 30 LINES OF CODE FOR THESE TWO METHODS COMBINED\n",
    "# ^^^^^ Review how LINKED STRUCTURES work and OBJECT ID's for pointing elements\n",
    "# ^^^^^ Textbook pages 255-265 (chapter 7)\n",
    "    def insertAfter (self, i, element): \n",
    "        # 'i' is the 'ith' element (int input), 'element' is the element itself to be inserted (str input)\n",
    "        \"\"\"Insert an element after the ith element of the list.\"\"\"\n",
    "        node = self._Node(element, None)\n",
    "      # insert method body below\n",
    "      # Cases: (1) insert into empty list, (2) insert before the head, (3) insert in the interior\n",
    "        i = input(int)\n",
    "        # Case 1: insert into empty list\n",
    "        if self.isEmpty():\n",
    "            self._head = node # element?\n",
    "            # adds element to the empty list, making the element the head of the list. ***Case 1***\n",
    "        else:\n",
    "            cursor = self._i\n",
    "            if i >= 0:\n",
    "                cursor.setNext(node)\n",
    "            else:\n",
    "                self._head = node\n",
    "        \n",
    "            #pseudocode\n",
    "            # if 'i' is selected: add element after the 'i' element of the list. ***Case 3***\n",
    "            # else (if 'i' is not selected): add element before the head of the element. ***Case 2***\n",
    "\n",
    "    def insertElt (self, insrtThis, where, insrtHere):\n",
    "        \"\"\"Insert element 'insrtThis' before/after node with element =='insrtHere'.\n",
    "           Parameter 'where' = \"B\" (before) or \"A' (After) 'insrtHere'.        \"\"\"\n",
    "        node = self._Node(insrtThis, None)\n",
    "        # insert method body below\n",
    "        # Hint: search for the list node element == 'insrtHere', then insert accordingly...'  \n",
    "\n",
    "class Empty(Exception):\n",
    "    \"\"\"Empty exception class provided to flag that condition. \"\"\"\n",
    "    pass"
   ]
  },
  {
   "cell_type": "code",
   "execution_count": 2,
   "metadata": {},
   "outputs": [
    {
     "name": "stdout",
     "output_type": "stream",
     "text": [
      "Adding #  0  element:  Washington\n",
      "Adding #  1  element:  Adams\n",
      "Adding #  2  element:  Jefferson\n"
     ]
    }
   ],
   "source": [
    "SLL = SinglyLinkedList()\n",
    "SLL.add('Washington')\n",
    "SLL.add('Adams')\n",
    "SLL.add('Jefferson')"
   ]
  },
  {
   "cell_type": "code",
   "execution_count": 3,
   "metadata": {},
   "outputs": [
    {
     "name": "stdout",
     "output_type": "stream",
     "text": [
      "Washington  reference:  4366553344 4366553680\n",
      "Adams  reference:  4366553680 4366554160\n",
      "Jefferson  reference:  4366554160 4333083824\n"
     ]
    }
   ],
   "source": [
    "SLL.showList()"
   ]
  },
  {
   "cell_type": "code",
   "execution_count": 4,
   "metadata": {},
   "outputs": [
    {
     "name": "stdout",
     "output_type": "stream",
     "text": [
      "4333083824\n"
     ]
    }
   ],
   "source": [
    "print(id(None))"
   ]
  },
  {
   "cell_type": "code",
   "execution_count": 5,
   "metadata": {},
   "outputs": [
    {
     "name": "stdout",
     "output_type": "stream",
     "text": [
      "2777396960784\n"
     ]
    }
   ],
   "source": [
    "print(int('286A9C25E10', 16))"
   ]
  },
  {
   "cell_type": "code",
   "execution_count": 6,
   "metadata": {},
   "outputs": [
    {
     "data": {
      "text/plain": [
       "3"
      ]
     },
     "execution_count": 6,
     "metadata": {},
     "output_type": "execute_result"
    }
   ],
   "source": [
    "SLL.getSize()"
   ]
  },
  {
   "cell_type": "code",
   "execution_count": 7,
   "metadata": {},
   "outputs": [
    {
     "data": {
      "text/plain": [
       "'Washington'"
      ]
     },
     "execution_count": 7,
     "metadata": {},
     "output_type": "execute_result"
    }
   ],
   "source": [
    "SLL.remove()"
   ]
  },
  {
   "cell_type": "code",
   "execution_count": 8,
   "metadata": {},
   "outputs": [
    {
     "name": "stdout",
     "output_type": "stream",
     "text": [
      "Adams  reference:  4366553680 4366554160\n",
      "Jefferson  reference:  4366554160 4333083824\n"
     ]
    }
   ],
   "source": [
    "SLL.showList()"
   ]
  },
  {
   "cell_type": "code",
   "execution_count": null,
   "metadata": {},
   "outputs": [],
   "source": []
  }
 ],
 "metadata": {
  "kernelspec": {
   "display_name": "Python 3",
   "language": "python",
   "name": "python3"
  },
  "language_info": {
   "codemirror_mode": {
    "name": "ipython",
    "version": 3
   },
   "file_extension": ".py",
   "mimetype": "text/x-python",
   "name": "python",
   "nbconvert_exporter": "python",
   "pygments_lexer": "ipython3",
   "version": "3.8.5"
  }
 },
 "nbformat": 4,
 "nbformat_minor": 4
}
