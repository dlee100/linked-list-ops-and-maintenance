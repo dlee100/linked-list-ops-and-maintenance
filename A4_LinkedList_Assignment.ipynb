{
 "cells": [
  {
   "cell_type": "markdown",
   "metadata": {},
   "source": [
    "## IT309-001 Assignment #4 (A4): Linked List Operations and Maintenance\n",
    "### Daniel Lee\n",
    "### Due Date: 10.20.2020"
   ]
  },
  {
   "cell_type": "code",
   "execution_count": 55,
   "metadata": {},
   "outputs": [],
   "source": [
    "class SinglyLinkedList:\n",
    "    \"\"\"LIFO Stack implementation using a singly linked list for storage.\"\"\"\n",
    "\n",
    " #-------------------------- nested _Node class --------------------------\n",
    "    class _Node:         # \"inner\" class\n",
    "        \"\"\"Lightweight, nonpublic class for storing a singly linked node.\"\"\"\n",
    "        __slots__ = '_element', '_next'           # streamline memory usage\n",
    "\n",
    "        def __init__(self, element, next):        # initialize node's fields\n",
    "            self._element = element               # reference to user's element\n",
    "            self._next = next                     # reference to next node\n",
    "\n",
    "        def setNext(self, next):\n",
    "            self._next = next\n",
    "    \n",
    "        def getNext(self):\n",
    "            return self._next\n",
    "  \n",
    "        def setElement(self, element):\n",
    "            self.element = _element\n",
    "    \n",
    "        def getElement(self):\n",
    "            return self._element\n",
    "        \n",
    "  #------------------------------- stack methods -------------------------------\n",
    "    def __init__(self, head = None, size = 0):\n",
    "        \"\"\"Create an empty list.\"\"\"\n",
    "        self._head = head                       # reference to the head node\n",
    "        self._size = size                       # number of stack elements\n",
    "\n",
    "    def getSize(self):\n",
    "        \"\"\"Return the number of elements in the list.\"\"\"\n",
    "        return self._size\n",
    "\n",
    "    def isEmpty(self):\n",
    "        \"\"\"Return True if the list is empty.\"\"\"\n",
    "        return self._size == 0\n",
    "\n",
    "    def add (self, element):\n",
    "        \"\"\"Add element element to the end of the list.\"\"\"\n",
    "        node = self._Node(element, None)\n",
    "        if self.isEmpty():\n",
    "            self._head = node\n",
    "        else:\n",
    "            cursor = self._head\n",
    "            while cursor.getNext() is not None:\n",
    "                cursor = cursor.getNext()\n",
    "            cursor.setNext(node)\n",
    "        print('Adding # ', self._size, ' element: ', node.getElement())\n",
    "        self._size += 1\n",
    "        \n",
    "    def remove(self):\n",
    "        \"\"\"Remove the element at the head of the list. Raise Empty if the list is empty.\"\"\"\n",
    "        if self.isEmpty():\n",
    "            raise Empty('List is empty')\n",
    "        self._size -= 1\n",
    "        out = self._head.getElement()      # save the head element and return to the caller\n",
    "        self._head = self._head.getNext()  # Reset the head to the second (next) list element\n",
    "        print('Removing element')\n",
    "        return out\n",
    "\n",
    "    def showList(self):\n",
    "        \"\"\"Display the contents of the list, from head to tail. Raise Empty exception if the List is empty. \"\"\"\n",
    "        if not self.isEmpty():\n",
    "            cursor = self._head\n",
    "            while True:\n",
    "                print(cursor.getElement(), ' reference: ', id(cursor), id(cursor.getNext()))\n",
    "                if cursor.getNext() == None: break\n",
    "                cursor = cursor.getNext()\n",
    "        return\n",
    "        \n",
    "    def search(self, key):\n",
    "        \"\"\" Search the list using 'key. \"\"\"        \n",
    "        cursor = self._head #'cursor' is the node pointer, starting at the list head.\n",
    "        while cursor: #loop until cursor is 'None', the list tail was reached.\n",
    "            if key == cursor.getElement(): #is the node element equal to the 'key' search target?\n",
    "                return True\n",
    "            cursor = cursor.getNext() #point to the next node by setting cursor to next.\n",
    "        return False\n",
    "\n",
    "# <!!!>\n",
    "\n",
    "    # Have to keep a counter variable to count how many nodes you've passed before inserting after the ith one.\n",
    "    def insertAfter (self, i, element):\n",
    "        node = self._Node(element, None)\n",
    "        #i = int\n",
    "        if self.isEmpty():\n",
    "            self._head = node\n",
    "        else:\n",
    "            cursor = self._head #'cursor' is the node pointer, starting at the list head.\n",
    "            count = 0\n",
    "            # if the specified index is greater than the size of the list, add the node to the end of the list.\n",
    "            if int(i) >= self._size: # same function as add()\n",
    "                while cursor.getNext() is not None:\n",
    "                    count+=1\n",
    "                    cursor = cursor.getNext()\n",
    "                cursor.setNext(node)\n",
    "                #print('Adding # ', self._size, ' element: ', node.getElement())\n",
    "                self._size += 1\n",
    "            # if the specified index is within range of the size of the list, insert node in the position.\n",
    "            elif int(i) < self._size:\n",
    "                while count < int(i):\n",
    "                    if count == i:\n",
    "                        previous_node.next = element\n",
    "                        element.next = cursor\n",
    "                        break\n",
    "                    previous_node = cursor\n",
    "                    cursor = cursor.getNext()\n",
    "                    \n",
    "                    count+=1\n",
    "                cursor.setNext(node)\n",
    "                self._size += 1\n",
    "        print('Inserted ', node.getElement(), 'after index position #', count)\n",
    "    \n",
    "    # Have to save the previous and next node pointers as you loop through the list so you can place your new node after the previous or before the next one.\n",
    "    def insertElt (self, insrtThis, where, insrtHere):\n",
    "        \"\"\"Insert element 'insrtThis' before/after node with element =='insrtHere'.\n",
    "           Parameter 'where' = \"B\" (before) or \"A' (After) 'insrtHere'.        \"\"\"\n",
    "        node = self._Node(insrtThis, None)\n",
    "        # insert method body below\n",
    "        # Hint: search for the list node element == 'insrtHere', then insert accordingly...'  \n",
    "        \n",
    "        if self.isEmpty():\n",
    "            self._head = node\n",
    "        else:\n",
    "            #insrtHere = cursor.getElement()\n",
    "            if where == 'A':\n",
    "                cursor = self._head\n",
    "                # add insrtThis AFTER insrtHere\n",
    "                while cursor.getNext() is not None:\n",
    "                    if insrtHere == cursor.getElement():\n",
    "                        insrtHere = cursor.getElement()\n",
    "                        break\n",
    "                    cursor = cursor.getNext()\n",
    "                cursor.setNext(node)\n",
    "                self._size += 1\n",
    "                print('Inserted ', node.getElement(), 'after ', insrtHere)\n",
    "            elif where == 'B':\n",
    "                # add insrtThis BEFORE insrtHere\n",
    "                cursor = self._head\n",
    "                current_pos = 0\n",
    "                while cursor.getNext() is not None:\n",
    "                    if insrtHere == cursor.getElement():\n",
    "                        previous_node._next = insrtThis\n",
    "                        cursor = cursor._next\n",
    "                        #insrtHere = current_node.getElement()\n",
    "                        print('HELLO WORLD')\n",
    "                        break\n",
    "                    previous_node = cursor\n",
    "                    cursor = cursor._next\n",
    "                    current_pos+=1\n",
    "                previous_node.setNext(node)\n",
    "                self._size += 1\n",
    "                print('Inserted ', node.getElement(), 'before ', insrtHere) \n",
    "        \n",
    "# </!!!>\n",
    "class Empty(Exception):\n",
    "    \"\"\"Empty exception class provided to flag that condition. \"\"\"\n",
    "    pass"
   ]
  },
  {
   "cell_type": "code",
   "execution_count": 56,
   "metadata": {},
   "outputs": [],
   "source": [
    "# inserts like 'A,Washington' (add) are inserted after the most tail element\n",
    "# inserts like 'IE,Wilson,A,TRoosevelt' (insertElt) are inserted after or before the second element parameter. In this case, Wilson will be inserted after the TRoosevelt node.\n",
    "# inserts like 'IA,40,Kennedy' (insertAfter) are inserted in the index specified. if the index value is greater than the number of items on the SLL, the new node will be inserted after the last item and become the new rear/tail.\n",
    "# insert 'R' (remove) will simply remove the beginning/head node.  \n",
    "\n",
    "A3trans = ('A,Washington',\n",
    "           'A,Adams',\n",
    "           'A,Jefferson',\n",
    "           'A,Madison',\n",
    "           'A,Monroe',\n",
    "           'A,Quincy Adams',\n",
    "           'A,Jackson',\n",
    "           'A,Van Buren',\n",
    "           'A,Harrison',\n",
    "           'A,Tyler',\n",
    "           'A,Polk',\n",
    "           'A,Taylor',\n",
    "           'A,Fillmore',\n",
    "           'A,Pierce',\n",
    "           'A,Buchanan',\n",
    "           'A,Lincoln',\n",
    "           'A,AJohnson',\n",
    "           'A,Grant',\n",
    "           'A,Hayes',\n",
    "           'A,Garfield',\n",
    "           'A,Arthur',\n",
    "           'A,Cleveland',\n",
    "           'A,Harrison',\n",
    "           'A,Cleveland',\n",
    "           'A,McKinley',\n",
    "           'A,TRoosevelt',\n",
    "           'IE,Wilson,A,TRoosevelt',\n",
    "           'IE,Taft,B,Wilson',\n",
    "           'A,Coolidge',\n",
    "           'R',\n",
    "           'R',\n",
    "           'R',\n",
    "           'A,Harding',\n",
    "           'IE,Wilson,B,Harding',\n",
    "           'A,Coolidge',\n",
    "           'A,FDRoosevelt',\n",
    "           'IE,Hoover,B,FDRoosevelt',\n",
    "           'IA,2,Shuman',\n",
    "           'IA,40,Kennedy',\n",
    "           'A,LBJohnson',\n",
    "           'IE,Nixon,A,LBJohnson',\n",
    "           'IE,Eisenhower,B,Kennedy',\n",
    "           'IE,Truman,B,Eisenhower')"
   ]
  },
  {
   "cell_type": "code",
   "execution_count": 57,
   "metadata": {},
   "outputs": [
    {
     "name": "stdout",
     "output_type": "stream",
     "text": [
      "Adding #  0  element:  Washington\n",
      "Adding #  1  element:  Adams\n",
      "Adding #  2  element:  Jefferson\n",
      "Adding #  3  element:  Madison\n",
      "Adding #  4  element:  Monroe\n",
      "Adding #  5  element:  Quincy Adams\n",
      "Adding #  6  element:  Jackson\n",
      "Adding #  7  element:  Van Buren\n",
      "Adding #  8  element:  Harrison\n",
      "Adding #  9  element:  Tyler\n",
      "Adding #  10  element:  Polk\n",
      "Adding #  11  element:  Taylor\n",
      "Adding #  12  element:  Fillmore\n",
      "Adding #  13  element:  Pierce\n",
      "Adding #  14  element:  Buchanan\n",
      "Adding #  15  element:  Lincoln\n",
      "Adding #  16  element:  AJohnson\n",
      "Adding #  17  element:  Grant\n",
      "Adding #  18  element:  Hayes\n",
      "Adding #  19  element:  Garfield\n",
      "Adding #  20  element:  Arthur\n",
      "Adding #  21  element:  Cleveland\n",
      "Adding #  22  element:  Harrison\n",
      "Adding #  23  element:  Cleveland\n",
      "Adding #  24  element:  McKinley\n",
      "Adding #  25  element:  TRoosevelt\n",
      "Inserted  Wilson after  TRoosevelt\n",
      "Inserted  Taft before  Wilson\n",
      "Adding #  28  element:  Coolidge\n",
      "Removing element\n",
      "Removing element\n",
      "Removing element\n",
      "Adding #  26  element:  Harding\n",
      "Inserted  Wilson before  Harding\n",
      "Adding #  28  element:  Coolidge\n",
      "Adding #  29  element:  FDRoosevelt\n",
      "Inserted  Hoover before  FDRoosevelt\n",
      "Inserted  Shuman after index position # 2\n",
      "Inserted  Kennedy after index position # 3\n",
      "Adding #  33  element:  LBJohnson\n",
      "Inserted  Nixon after  LBJohnson\n",
      "HELLO WORLD\n",
      "Inserted  Eisenhower before  Kennedy\n",
      "Inserted  Truman before  Eisenhower\n",
      "37\n"
     ]
    }
   ],
   "source": [
    "# SLL1 object created\n",
    "SLL1 = SinglyLinkedList()\n",
    "for n in A3trans:\n",
    "    n = n.split(',')\n",
    "    if n[0] == 'A':\n",
    "        # adds node to the end of the list\n",
    "        SLL1.add(n[1])\n",
    "    elif n[0] == 'IE':\n",
    "        # inserts n[1] node to before/after (n[2]) the n[3] node\n",
    "        SLL1.insertElt(n[1],n[2],n[3])\n",
    "    elif n[0] == 'IA':\n",
    "        # inserts n[2] node after the node indexed (n[1])  \n",
    "        SLL1.insertAfter(n[1],n[2])\n",
    "    elif n[0] == 'R':\n",
    "        # removes the head node\n",
    "        SLL1.remove()\n",
    "    else:\n",
    "        pass\n",
    "print(SLL1._size)"
   ]
  },
  {
   "cell_type": "code",
   "execution_count": 58,
   "metadata": {},
   "outputs": [
    {
     "name": "stdout",
     "output_type": "stream",
     "text": [
      "Madison  reference:  4422024832 4422024208\n",
      "Monroe  reference:  4422024208 4422024352\n",
      "Quincy Adams  reference:  4422024352 4422021568\n",
      "Shuman  reference:  4422021568 4422023968\n",
      "Truman  reference:  4422023968 4388605104\n"
     ]
    }
   ],
   "source": [
    "SLL1.showList()"
   ]
  },
  {
   "cell_type": "code",
   "execution_count": 59,
   "metadata": {},
   "outputs": [
    {
     "name": "stdout",
     "output_type": "stream",
     "text": [
      "4388605104\n"
     ]
    }
   ],
   "source": [
    "print(id(None))"
   ]
  },
  {
   "cell_type": "code",
   "execution_count": 60,
   "metadata": {},
   "outputs": [
    {
     "name": "stdout",
     "output_type": "stream",
     "text": [
      "2777396960784\n"
     ]
    }
   ],
   "source": [
    "print(int('286A9C25E10', 16))"
   ]
  },
  {
   "cell_type": "code",
   "execution_count": 61,
   "metadata": {},
   "outputs": [
    {
     "data": {
      "text/plain": [
       "37"
      ]
     },
     "execution_count": 61,
     "metadata": {},
     "output_type": "execute_result"
    }
   ],
   "source": [
    "SLL1.getSize()"
   ]
  },
  {
   "cell_type": "code",
   "execution_count": 62,
   "metadata": {},
   "outputs": [
    {
     "name": "stdout",
     "output_type": "stream",
     "text": [
      "Removing element\n"
     ]
    },
    {
     "data": {
      "text/plain": [
       "'Madison'"
      ]
     },
     "execution_count": 62,
     "metadata": {},
     "output_type": "execute_result"
    }
   ],
   "source": [
    "SLL1.remove()"
   ]
  },
  {
   "cell_type": "code",
   "execution_count": 63,
   "metadata": {},
   "outputs": [
    {
     "name": "stdout",
     "output_type": "stream",
     "text": [
      "Monroe  reference:  4422024208 4422024352\n",
      "Quincy Adams  reference:  4422024352 4422021568\n",
      "Shuman  reference:  4422021568 4422023968\n",
      "Truman  reference:  4422023968 4388605104\n"
     ]
    }
   ],
   "source": [
    "SLL1.showList()"
   ]
  },
  {
   "cell_type": "code",
   "execution_count": 64,
   "metadata": {},
   "outputs": [
    {
     "data": {
      "text/plain": [
       "36"
      ]
     },
     "execution_count": 64,
     "metadata": {},
     "output_type": "execute_result"
    }
   ],
   "source": [
    "SLL1.getSize()"
   ]
  },
  {
   "cell_type": "markdown",
   "metadata": {},
   "source": [
    "## Observations\n",
    "### I have found developing and testing the code to be mostly debugging in terms of most time spent.\n",
    "### I have developed the functions relatively quickly but it was debugging all the functions when running that took the most time.\n",
    "### I would say on paper handling the SLL is easy. It is easy to have your mind grasp on whats going on.\n",
    "### But implementing it through code is more tricky than I had imagined. There's a lot of varying characteristic each node, function, and variable has.\n",
    "### I think I would prefer implementing the linked list using an array because I can visually see more clearly of whats going on.\n",
    "### I would say the insertElt was more difficult to code than insertAfter. insertElt you have to take in account the previous and next nodes.\n",
    "### I think the SLL class is suitable for implementing the Queue ADT, because its remove() function pops out the head while its add function inserts to the tail.\n",
    "### The SLL class functions as a FIFO"
   ]
  },
  {
   "cell_type": "code",
   "execution_count": null,
   "metadata": {},
   "outputs": [],
   "source": []
  }
 ],
 "metadata": {
  "kernelspec": {
   "display_name": "Python 3",
   "language": "python",
   "name": "python3"
  },
  "language_info": {
   "codemirror_mode": {
    "name": "ipython",
    "version": 3
   },
   "file_extension": ".py",
   "mimetype": "text/x-python",
   "name": "python",
   "nbconvert_exporter": "python",
   "pygments_lexer": "ipython3",
   "version": "3.8.5"
  }
 },
 "nbformat": 4,
 "nbformat_minor": 4
}
